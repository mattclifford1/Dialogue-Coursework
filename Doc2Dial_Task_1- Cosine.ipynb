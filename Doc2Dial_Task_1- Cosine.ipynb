{
 "cells": [
  {
   "cell_type": "markdown",
   "metadata": {
    "id": "Tudo3osMrhcl"
   },
   "source": [
    "# Dialogue and Narrative Coursework - Subtask 1"
   ]
  },
  {
   "cell_type": "code",
   "execution_count": 1,
   "metadata": {
    "id": "0k_O_Qd2ry0b"
   },
   "outputs": [],
   "source": [
    "## imports\n",
    "# %%capture\n",
    "# !pip install datasets\n",
    "\n",
    "from datasets import load_dataset, Dataset\n",
    "import pandas as pd"
   ]
  },
  {
   "cell_type": "code",
   "execution_count": 2,
   "metadata": {
    "colab": {
     "base_uri": "https://localhost:8080/"
    },
    "id": "TAKj0iDr9EK0",
    "outputId": "3611fdf0-ff79-4fbe-94db-70e0f1932e97"
   },
   "outputs": [],
   "source": [
    "# # Link Google Drive to get new dataset\n",
    "# from google.colab import drive\n",
    "# drive.mount('/gdrive')\n",
    "\n",
    "# # %cd drive/MyDrive/Colab\\ Notebooks/Dialogue\\ &\\ Narrative\n",
    "# %cd ~\n",
    "# %cd /gdrive/My\\ Drive\n",
    "# %cd Colab\\ Notebooks/Dialogue\\ &\\ Narrative\n",
    "# print()\n",
    "\n",
    "# %ls ."
   ]
  },
  {
   "cell_type": "markdown",
   "metadata": {
    "id": "AZBXMskor35Z"
   },
   "source": [
    "## Load the data"
   ]
  },
  {
   "cell_type": "code",
   "execution_count": 3,
   "metadata": {
    "id": "luX9Fm_C7n9p"
   },
   "outputs": [],
   "source": [
    "## A function to load a specific doc2dial dataset\n",
    "\n",
    "def load_doc2dial_dataset(name='dialogue_domain', split='train'):\n",
    "  cache_dir = \"./data_cache\"\n",
    "\n",
    "  return load_dataset(\n",
    "      \"doc2dial\",\n",
    "      name=name,\n",
    "      split=split,\n",
    "      ignore_verifications=True,\n",
    "      cache_dir=cache_dir,\n",
    "  )\n"
   ]
  },
  {
   "cell_type": "markdown",
   "metadata": {
    "id": "_hV32eqs6YsC"
   },
   "source": [
    "## Understanding an example"
   ]
  },
  {
   "cell_type": "code",
   "execution_count": 4,
   "metadata": {
    "colab": {
     "base_uri": "https://localhost:8080/",
     "referenced_widgets": [
      "f429ba5f89f54ab4a8eeb65ff4a3b4aa",
      "943a55ffffd9470b8a22f4ba5f17fbdd",
      "e752aa7f11f248a3af43c98cce17a000",
      "6831ed85a2d74417939dd24dce4f6d72",
      "ffb1eab3754c40a586e0d8c8e0d778fb",
      "2056daee1b3d425e9f1fa0e674940e7d",
      "8f029bad159341e9ae87b39141baab67",
      "99d8a61c50b2438bb35b9cbad53bf748",
      "d1e2b4035df4487899827509bdd0f983",
      "114e0eef3956486aa205c947b760f182",
      "5284aed77a7b446591e7292dfdb54032",
      "a2bbb2e53d9f4a9bb60f1f7bd999cf1c",
      "e12177b5b8ee4428bdc094553a46be70",
      "703fce38200f4a5e9770e2fd74d369cb",
      "c537bd4872404186a70423a920228637",
      "0657f92450c04f989ac4d019fd9898df",
      "a740a3ab36384beb90403a5e80dcf3e9",
      "58ff083d251e496d9a8b22a292ae3b90",
      "22815c08e9ee47c1ba0478fe263c56e4",
      "9c292aed676a4adeb880918620c3bd84",
      "b8d8931b903a4bda8a9ebf2c36289e5c",
      "a96484a8686e4503bf3ea6320a6b9794"
     ]
    },
    "id": "kVqFYgfzrxlP",
    "outputId": "4357152f-0a84-46f1-c499-2fa966d38350"
   },
   "outputs": [
    {
     "name": "stderr",
     "output_type": "stream",
     "text": [
      "Reusing dataset doc2dial (./data_cache/doc2dial/document_domain/1.0.1/cf6d3ed4e77cea477387dd51c171a021a09bd314cf3a2cb2a6431ca738c6c0ee)\n"
     ]
    }
   ],
   "source": [
    "## Load documents \n",
    "\n",
    "documents = load_doc2dial_dataset(\n",
    "              name=\"document_domain\",\n",
    "              split=\"train\",\n",
    "            )"
   ]
  },
  {
   "cell_type": "code",
   "execution_count": 5,
   "metadata": {
    "colab": {
     "base_uri": "https://localhost:8080/"
    },
    "id": "zCdIeRABsSQc",
    "outputId": "68c51049-cd30-4cce-c1c0-c3998915e622"
   },
   "outputs": [
    {
     "name": "stdout",
     "output_type": "stream",
     "text": [
      "dict_keys(['doc_html_raw', 'doc_html_ts', 'doc_id', 'doc_text', 'domain', 'spans', 'title'])\n"
     ]
    },
    {
     "data": {
      "text/plain": [
       "{'end_sec': 61,\n",
       " 'end_sp': 61,\n",
       " 'id_sec': 't_0',\n",
       " 'id_sp': '1',\n",
       " 'parent_titles': '[]',\n",
       " 'start_sec': 0,\n",
       " 'start_sp': 0,\n",
       " 'tag': 'h2',\n",
       " 'text_sec': '\\n\\nBenefits Planner: Survivors | Planning For Your Survivors \\n',\n",
       " 'text_sp': '\\n\\nBenefits Planner: Survivors | Planning For Your Survivors \\n',\n",
       " 'title': 'Benefits Planner: Survivors | Planning For Your Survivors'}"
      ]
     },
     "execution_count": 5,
     "metadata": {},
     "output_type": "execute_result"
    }
   ],
   "source": [
    "print(documents[0].keys())\n",
    "documents[0]['spans'][0]"
   ]
  },
  {
   "cell_type": "code",
   "execution_count": 6,
   "metadata": {
    "colab": {
     "base_uri": "https://localhost:8080/"
    },
    "id": "FduJOaaSgZkG",
    "outputId": "db573710-2841-4f20-eb71-8ec6b5416d54"
   },
   "outputs": [
    {
     "name": "stderr",
     "output_type": "stream",
     "text": [
      "Reusing dataset doc2dial (./data_cache/doc2dial/dialogue_domain/1.0.1/cf6d3ed4e77cea477387dd51c171a021a09bd314cf3a2cb2a6431ca738c6c0ee)\n"
     ]
    }
   ],
   "source": [
    "## Load dialogue turns\n",
    "\n",
    "dialogues = load_doc2dial_dataset(\n",
    "              name=\"dialogue_domain\",\n",
    "              split=\"validation\",\n",
    "            )"
   ]
  },
  {
   "cell_type": "code",
   "execution_count": 7,
   "metadata": {
    "colab": {
     "base_uri": "https://localhost:8080/"
    },
    "id": "n4eR2fHYgn6f",
    "outputId": "ffb8ad92-0542-4d59-c932-a3b2b4644869"
   },
   "outputs": [
    {
     "name": "stdout",
     "output_type": "stream",
     "text": [
      "dict_keys(['dial_id', 'doc_id', 'domain', 'turns'])\n"
     ]
    },
    {
     "data": {
      "text/plain": [
       "'dmv'"
      ]
     },
     "execution_count": 7,
     "metadata": {},
     "output_type": "execute_result"
    }
   ],
   "source": [
    "print(dialogues[0].keys())\n",
    "dialogues[0]['domain']"
   ]
  },
  {
   "cell_type": "markdown",
   "metadata": {
    "id": "SCr-J3zC8nxw"
   },
   "source": [
    "For subtask 1, the gound truths are specified in the reading comprehension dataset 'doc2dial_rc'. Let's show this on the first example from the validation set."
   ]
  },
  {
   "cell_type": "code",
   "execution_count": 8,
   "metadata": {
    "colab": {
     "base_uri": "https://localhost:8080/"
    },
    "id": "MasJgUE19smp",
    "outputId": "2e6253cf-2590-4a83-ed95-013eb55c7a0f"
   },
   "outputs": [
    {
     "name": "stderr",
     "output_type": "stream",
     "text": [
      "Reusing dataset doc2dial (./data_cache/doc2dial/doc2dial_rc/1.0.1/cf6d3ed4e77cea477387dd51c171a021a09bd314cf3a2cb2a6431ca738c6c0ee)\n"
     ]
    }
   ],
   "source": [
    "## Using the doc2dial_rc dataset (also used for evaluation)\n",
    "\n",
    "qas = load_doc2dial_dataset(\n",
    "              name=\"doc2dial_rc\",\n",
    "              split=\"validation\",\n",
    "            )"
   ]
  },
  {
   "cell_type": "code",
   "execution_count": 9,
   "metadata": {
    "colab": {
     "base_uri": "https://localhost:8080/"
    },
    "id": "tTm3LLeu_Ey5",
    "outputId": "d6774e83-f14d-45e2-83ad-79244d35be06"
   },
   "outputs": [
    {
     "name": "stdout",
     "output_type": "stream",
     "text": [
      "{'id': 'dea7174409afbfe0af0ace21e7f318ae_1', 'answers': {'answer_start': [1796], 'text': ['Because we all pay indirectly for crashes involving uninsured motorists , New York State requires every motorist to maintain auto insurance every single day a vehicle is registered. DMV works with insurance companies to electronically monitor your insurance coverage , ']}}\n",
      "Dataset({\n",
      "    features: ['id', 'title', 'context', 'question', 'answers', 'domain'],\n",
      "    num_rows: 4002\n",
      "})\n"
     ]
    },
    {
     "data": {
      "text/plain": [
       "{'answers': {'answer_start': [1796],\n",
       "  'text': ['Because we all pay indirectly for crashes involving uninsured motorists , New York State requires every motorist to maintain auto insurance every single day a vehicle is registered. DMV works with insurance companies to electronically monitor your insurance coverage , ']},\n",
       " 'context': 'Many DMV customers make easily avoidable mistakes that cause them significant problems, including encounters with law enforcement and impounded vehicles. Because we see customers make these mistakes over and over again , we are issuing this list of the top five DMV mistakes and how to avoid them. \\n\\n1. Forgetting to Update Address \\nBy statute , you must report a change of address to DMV within ten days of moving. That is the case for the address associated with your license, as well as all the addresses associated with each registered vehicle, which may differ. It is not sufficient to only: write your new address on the back of your old license; tell the United States Postal Service; or inform the police officer writing you a ticket. If you fail to keep your address current , you will miss a suspension order and may be charged with operating an unregistered vehicle and/or aggravated unlicensed operation, both misdemeanors. This really happens , but the good news is this is a problem that is easily avoidable. Learn more about how to change the address on your license and registrations [1 ] \\n\\n2. Leaving the State Without Notifying DMV \\nStates communicate with each other , so when you move to another state, be sure to tie up any loose ends regarding your New York State license or registration. That means resolving any unanswered tickets, suspensions or revocations, and surrendering your license plates to NYS when you get to your new home state. A license suspension or revocation here could mean that your new home state will not issue you a license there. Remember , it is important to notify DMV of your new address so that any possible mail correspondence can reach you. Also , turning in your plates is important to avoid an insurance lapse. \\n\\n3. Letting Insurance Lapse \\nBecause we all pay indirectly for crashes involving uninsured motorists , New York State requires every motorist to maintain auto insurance every single day a vehicle is registered. DMV works with insurance companies to electronically monitor your insurance coverage , and we know when coverage is dropped for any reason. When that happens , we mail you an insurance inquiry letter to allow you to clear up the problem. We send 500,000 inquiry letters a year. If the inquiry letter does not resolve the problem , we must suspend the vehicle registration and , if it persists, your driver license!We suspend 300,000 registrations a year for failure to maintain insurance. If you fail to maintain an updated address with us , you won t learn that you have an insurance problem , and we will suspend your registration and license. Make sure you turn in your vehicle s license plates at DMV before you cancel your insurance policy. Insurance policies must be from a company licensed in New York State. Learn more about Insurances Lapes [2] and How to Surrender your Plates [3 ] \\n\\n4. Understanding how Much Traffic Points Cost \\nDMV maintains a point system to track dangerous drivers. Often , motorists convicted of a traffic ticket feel they have resolved all their motoring issues with the local court, but later learn that the Driver Responsibility Assessment DRA is a separate DMV charge based on the total points they accumulate. The $300 DRA fee can be paid in $100 annual installments over three years. Motorists who fail to maintain an updated address with DMV may resolve their tickets with the court, but never receive their DRA assessment because we do not have their new address on record. Failure to pay the DRA will result in a suspended license. Learn more about About the NYS Driver Point System [4] and how to Pay Driver Responsibility Assessment [5 ] \\n\\n5. Not Bringing Proper Documentation to DMV Office \\nAbout ten percent of customers visiting a DMV office do not bring what they need to complete their transaction, and have to come back a second time to finish their business. This can be as simple as not bringing sufficient funds to pay for a license renewal or not having the proof of auto insurance required to register a car. Better yet , don t visit a DMV office at all, and see if your transaction can be performed online, like an address change, registration renewal, license renewal, replacing a lost title, paying a DRA or scheduling a road test. Our award - winning website is recognized as one of the best in the nation. It has all the answers you need to efficiently perform any DMV transaction. Consider signing up for our MyDMV service, which offers even more benefits. Sign up or log into MyDMV [6 ] ',\n",
       " 'domain': 'dmv',\n",
       " 'id': 'dea7174409afbfe0af0ace21e7f318ae_1',\n",
       " 'question': 'user: My insurance ended so what should i do',\n",
       " 'title': 'Top 5 DMV Mistakes and How to Avoid Them#3_0'}"
      ]
     },
     "execution_count": 9,
     "metadata": {},
     "output_type": "execute_result"
    }
   ],
   "source": [
    "## The following display will be used as ground truth for evaluation\n",
    "ref = {'id':qas[0]['id'], 'answers':qas[0]['answers']}\n",
    "print(ref)\n",
    "print(qas)\n",
    "qas[0]"
   ]
  },
  {
   "cell_type": "markdown",
   "metadata": {
    "id": "hQEqIE9CDQxw"
   },
   "source": [
    "The answer corresponding to question `dea7174409afbfe0af0ace21e7f318ae_1` most likely has id `dea7174409afbfe0af0ace21e7f318ae_2`. So let's check it using the given dialogue and document domains datasets. We should also check that this answer corresponds to a span starting at `1796` in the associated document."
   ]
  },
  {
   "cell_type": "code",
   "execution_count": 10,
   "metadata": {
    "colab": {
     "base_uri": "https://localhost:8080/"
    },
    "id": "rffK21AAm3cK",
    "outputId": "b1979b8b-c534-4375-e01f-f8e1dc45cea9"
   },
   "outputs": [
    {
     "name": "stdout",
     "output_type": "stream",
     "text": [
      "{'da': 'respond_solution', 'references': [{'label': 'solution', 'sp_id': '24'}, {'label': 'solution', 'sp_id': '25'}, {'label': 'solution', 'sp_id': '26'}], 'role': 'agent', 'turn_id': 2, 'utterance': 'You will need to get insurance or we will suspend your registration and license'}\n"
     ]
    }
   ],
   "source": [
    "## Let's find anwer 'dea7174409afbfe0af0ace21e7f318ae_2'\n",
    "\n",
    "question_id = 'dea7174409afbfe0af0ace21e7f318ae_2'\n",
    "dial = 'dea7174409afbfe0af0ace21e7f318ae'\n",
    "turn = 2\n",
    "\n",
    "for ex in dialogues:\n",
    "  if ex['dial_id'] == dial:\n",
    "\n",
    "    doc_id = ex['doc_id']   ## corresponding document id\n",
    "    span_ids = []           ## corresponding span ids\n",
    "\n",
    "    for tr in ex['turns']:\n",
    "      if tr['turn_id'] == turn:\n",
    "        print(tr)\n",
    "\n",
    "        for sp in tr['references']:\n",
    "          span_ids.append(sp['sp_id'])"
   ]
  },
  {
   "cell_type": "code",
   "execution_count": 11,
   "metadata": {
    "colab": {
     "base_uri": "https://localhost:8080/"
    },
    "id": "ojhwvL3_ycq1",
    "outputId": "4f360a9d-97a1-4c7b-de45-3b92a8d5c18a"
   },
   "outputs": [
    {
     "name": "stdout",
     "output_type": "stream",
     "text": [
      "Because we all pay indirectly for crashes involving uninsured motorists , New York State requires every motorist to maintain auto insurance every single day a vehicle is registered. DMV works with insurance companies to electronically monitor your insurance coverage , \n"
     ]
    }
   ],
   "source": [
    "## Let's get the correpond answer in the document_domain\n",
    "\n",
    "for doc in documents:\n",
    "  if doc['doc_id'] == doc_id:\n",
    "\n",
    "    ans = ''\n",
    "    for span in doc['spans']:\n",
    "      if span['id_sp'] in span_ids:\n",
    "        ans += span['text_sp']\n",
    "\n",
    "print(ans)"
   ]
  },
  {
   "cell_type": "code",
   "execution_count": 12,
   "metadata": {
    "colab": {
     "base_uri": "https://localhost:8080/"
    },
    "id": "XkyPegOz0WW5",
    "outputId": "a1def948-0101-48a5-f58f-453c3c485aa5"
   },
   "outputs": [
    {
     "name": "stdout",
     "output_type": "stream",
     "text": [
      "Because we all pay indirectly for crashes involving uninsured motorists , \n",
      "Because we all pay indirectly for crashes involving uninsured motorists , \n",
      "Because we all pay indirectly for crashes involving uninsured motorists , \n",
      "Because we all pay indirectly for crashes involving uninsured motorists , \n",
      "Because we all pay indirectly for crashes involving uninsured motorists , \n",
      "Because we all pay indirectly for crashes involving uninsured motorists , \n",
      "Because we all pay indirectly for crashes involving uninsured motorists , \n"
     ]
    }
   ],
   "source": [
    "## Let's check that the effectively starts at 1796\n",
    "\n",
    "for doc in documents:\n",
    "  if doc['doc_id'] == doc_id:\n",
    "    for span in doc['spans']:\n",
    "      if span['start_sp'] == 1796:\n",
    "        print(span['text_sp'])"
   ]
  },
  {
   "cell_type": "markdown",
   "metadata": {
    "id": "-dVD1AlCE0xx"
   },
   "source": [
    "It checks out! Now that we know that our ground truths are essentially doc2dial_rc, let see what our predictions should look like in order to comply with the evaluation script."
   ]
  },
  {
   "cell_type": "code",
   "execution_count": 13,
   "metadata": {
    "colab": {
     "base_uri": "https://localhost:8080/"
    },
    "id": "ltbcOElv60zf",
    "outputId": "3cfd7c19-cfc5-45b6-ed3c-3a46d3109f3f"
   },
   "outputs": [
    {
     "data": {
      "text/plain": [
       "[{'id': 'dea7174409afbfe0af0ace21e7f318ae_1',\n",
       "  'prediction_text': 'Because we all pay indirectly for crashes involving uninsured motorists , New York State requires every motorist to maintain auto insurance every single day a vehicle is registered. DMV works with insurance companies to electronically monitor your insurance coverage ,',\n",
       "  'no_answer_probability': 0.883711576461792},\n",
       " {'id': 'dea7174409afbfe0af0ace21e7f318ae_9',\n",
       "  'prediction_text': 'we mail you an insurance inquiry letter to allow you to clear up the problem. We send 500,000 inquiry letters a year. ',\n",
       "  'no_answer_probability': 0.0004379140445962548}]"
      ]
     },
     "execution_count": 13,
     "metadata": {},
     "output_type": "execute_result"
    }
   ],
   "source": [
    "## Examples of predictions\n",
    "[\n",
    "    {\n",
    "        \"id\": \"dea7174409afbfe0af0ace21e7f318ae_1\",\n",
    "        \"prediction_text\": \"Because we all pay indirectly for crashes involving uninsured motorists , New York State requires every motorist to maintain auto insurance every single day a vehicle is registered. DMV works with insurance companies to electronically monitor your insurance coverage ,\",\n",
    "        \"no_answer_probability\": 0.883711576461792\n",
    "    },\n",
    "    {\n",
    "        \"id\": \"dea7174409afbfe0af0ace21e7f318ae_9\",\n",
    "        \"prediction_text\": \"we mail you an insurance inquiry letter to allow you to clear up the problem. We send 500,000 inquiry letters a year. \",\n",
    "        \"no_answer_probability\": 0.0004379140445962548\n",
    "    }\n",
    "]"
   ]
  },
  {
   "cell_type": "markdown",
   "metadata": {
    "id": "ND6tO1yZ6lwf"
   },
   "source": [
    "## Simple model based on a cosine similarity"
   ]
  },
  {
   "cell_type": "markdown",
   "metadata": {
    "id": "lz3piR7vZ2Iw"
   },
   "source": [
    "### Build new datasets (much more simple ones)"
   ]
  },
  {
   "cell_type": "markdown",
   "metadata": {
    "id": "Ov1BXdRCFHYK"
   },
   "source": [
    "We know our ouputs and their ground thruths, we must now build our inputs. "
   ]
  },
  {
   "cell_type": "code",
   "execution_count": 14,
   "metadata": {
    "colab": {
     "base_uri": "https://localhost:8080/"
    },
    "id": "z5T5fRd4dn_S",
    "outputId": "db919313-5908-4d72-b2e1-4aadb57dd44f"
   },
   "outputs": [
    {
     "name": "stderr",
     "output_type": "stream",
     "text": [
      "Reusing dataset doc2dial (./data_cache/doc2dial/dialogue_domain/1.0.1/cf6d3ed4e77cea477387dd51c171a021a09bd314cf3a2cb2a6431ca738c6c0ee)\n",
      "Reusing dataset doc2dial (./data_cache/doc2dial/dialogue_domain/1.0.1/cf6d3ed4e77cea477387dd51c171a021a09bd314cf3a2cb2a6431ca738c6c0ee)\n",
      "Reusing dataset doc2dial (./data_cache/doc2dial/document_domain/1.0.1/cf6d3ed4e77cea477387dd51c171a021a09bd314cf3a2cb2a6431ca738c6c0ee)\n",
      "Reusing dataset doc2dial (./data_cache/doc2dial/doc2dial_rc/1.0.1/cf6d3ed4e77cea477387dd51c171a021a09bd314cf3a2cb2a6431ca738c6c0ee)\n",
      "Reusing dataset doc2dial (./data_cache/doc2dial/doc2dial_rc/1.0.1/cf6d3ed4e77cea477387dd51c171a021a09bd314cf3a2cb2a6431ca738c6c0ee)\n"
     ]
    }
   ],
   "source": [
    "train_dialogues = load_doc2dial_dataset(name=\"dialogue_domain\", split=\"train\")\n",
    "val_dialogues = load_doc2dial_dataset(name=\"dialogue_domain\", split=\"validation\")\n",
    "\n",
    "documents = load_doc2dial_dataset(name=\"document_domain\", split=\"train\")\n",
    "\n",
    "train_data = load_doc2dial_dataset(name=\"doc2dial_rc\", split=\"train\")\n",
    "val_data = load_doc2dial_dataset(name=\"doc2dial_rc\", split=\"validation\")"
   ]
  },
  {
   "cell_type": "code",
   "execution_count": 15,
   "metadata": {
    "colab": {
     "base_uri": "https://localhost:8080/"
    },
    "id": "hS8r1z7feL8T",
    "outputId": "98de2d76-9001-41eb-8d72-fb39f3cdfe5e"
   },
   "outputs": [
    {
     "data": {
      "text/plain": [
       "{'answers': {'answer_start': [346],\n",
       "  'text': ['you must report a change of address to DMV within ten days of moving. That is the case for the address associated with your license, as well as all the addresses associated with each registered vehicle, which may differ. ']},\n",
       " 'context': 'Many DMV customers make easily avoidable mistakes that cause them significant problems, including encounters with law enforcement and impounded vehicles. Because we see customers make these mistakes over and over again , we are issuing this list of the top five DMV mistakes and how to avoid them. \\n\\n1. Forgetting to Update Address \\nBy statute , you must report a change of address to DMV within ten days of moving. That is the case for the address associated with your license, as well as all the addresses associated with each registered vehicle, which may differ. It is not sufficient to only: write your new address on the back of your old license; tell the United States Postal Service; or inform the police officer writing you a ticket. If you fail to keep your address current , you will miss a suspension order and may be charged with operating an unregistered vehicle and/or aggravated unlicensed operation, both misdemeanors. This really happens , but the good news is this is a problem that is easily avoidable. Learn more about how to change the address on your license and registrations [1 ] \\n\\n2. Leaving the State Without Notifying DMV \\nStates communicate with each other , so when you move to another state, be sure to tie up any loose ends regarding your New York State license or registration. That means resolving any unanswered tickets, suspensions or revocations, and surrendering your license plates to NYS when you get to your new home state. A license suspension or revocation here could mean that your new home state will not issue you a license there. Remember , it is important to notify DMV of your new address so that any possible mail correspondence can reach you. Also , turning in your plates is important to avoid an insurance lapse. \\n\\n3. Letting Insurance Lapse \\nBecause we all pay indirectly for crashes involving uninsured motorists , New York State requires every motorist to maintain auto insurance every single day a vehicle is registered. DMV works with insurance companies to electronically monitor your insurance coverage , and we know when coverage is dropped for any reason. When that happens , we mail you an insurance inquiry letter to allow you to clear up the problem. We send 500,000 inquiry letters a year. If the inquiry letter does not resolve the problem , we must suspend the vehicle registration and , if it persists, your driver license!We suspend 300,000 registrations a year for failure to maintain insurance. If you fail to maintain an updated address with us , you won t learn that you have an insurance problem , and we will suspend your registration and license. Make sure you turn in your vehicle s license plates at DMV before you cancel your insurance policy. Insurance policies must be from a company licensed in New York State. Learn more about Insurances Lapes [2] and How to Surrender your Plates [3 ] \\n\\n4. Understanding how Much Traffic Points Cost \\nDMV maintains a point system to track dangerous drivers. Often , motorists convicted of a traffic ticket feel they have resolved all their motoring issues with the local court, but later learn that the Driver Responsibility Assessment DRA is a separate DMV charge based on the total points they accumulate. The $300 DRA fee can be paid in $100 annual installments over three years. Motorists who fail to maintain an updated address with DMV may resolve their tickets with the court, but never receive their DRA assessment because we do not have their new address on record. Failure to pay the DRA will result in a suspended license. Learn more about About the NYS Driver Point System [4] and how to Pay Driver Responsibility Assessment [5 ] \\n\\n5. Not Bringing Proper Documentation to DMV Office \\nAbout ten percent of customers visiting a DMV office do not bring what they need to complete their transaction, and have to come back a second time to finish their business. This can be as simple as not bringing sufficient funds to pay for a license renewal or not having the proof of auto insurance required to register a car. Better yet , don t visit a DMV office at all, and see if your transaction can be performed online, like an address change, registration renewal, license renewal, replacing a lost title, paying a DRA or scheduling a road test. Our award - winning website is recognized as one of the best in the nation. It has all the answers you need to efficiently perform any DMV transaction. Consider signing up for our MyDMV service, which offers even more benefits. Sign up or log into MyDMV [6 ] ',\n",
       " 'domain': 'dmv',\n",
       " 'id': '9f44c1539efe6f7e79b02eb1b413aa43_1',\n",
       " 'question': 'user: Hello, I forgot o update my address, can you help me with that?',\n",
       " 'title': 'Top 5 DMV Mistakes and How to Avoid Them#3_0'}"
      ]
     },
     "execution_count": 15,
     "metadata": {},
     "output_type": "execute_result"
    }
   ],
   "source": [
    "train_data[0]"
   ]
  },
  {
   "cell_type": "code",
   "execution_count": 27,
   "metadata": {
    "id": "4ZycGAd_gX2u"
   },
   "outputs": [],
   "source": [
    "def add_spans(sample, dialogues):\n",
    "    dial_id, turn_id = sample['id'].split('_')\n",
    "\n",
    "    dials = dialogues.filter(lambda ex: ex['dial_id'] == dial_id)[0]\n",
    "    print('DIAL: ',dial)\n",
    "    doc_id = dial['doc_id']   ## corresponding document id\n",
    "    span_ids = []             ## corresponding span ids\n",
    "\n",
    "    for tr in dial['turns']:\n",
    "        if tr['turn_id'] == int(turn_id)+1:\n",
    "\n",
    "            for sp in tr['references']:\n",
    "                span_ids.append(sp['sp_id'])\n",
    "\n",
    "            break\n",
    "\n",
    "    doc = documents.filter(lambda ex: ex['doc_id'] == doc_id)[0]\n",
    "\n",
    "    spans = {}\n",
    "    answer_spans = {}\n",
    "    for span in doc['spans']:\n",
    "        spans[span['id_sp']] = span['text_sp']\n",
    "        if span['id_sp'] in span_ids:\n",
    "            answer_spans[span['id_sp']] = span['text_sp']\n",
    "\n",
    "    sample['spans'] = spans\n",
    "    sample['answers']['spans'] = answer_spans\n",
    "    return sample"
   ]
  },
  {
   "cell_type": "code",
   "execution_count": 28,
   "metadata": {
    "id": "sXoUCMCkSNB9"
   },
   "outputs": [],
   "source": [
    "# new_data_train = data_train.map(add_spans)\n",
    "\n",
    "# new_data_train[0]"
   ]
  },
  {
   "cell_type": "code",
   "execution_count": 29,
   "metadata": {
    "colab": {
     "base_uri": "https://localhost:8080/",
     "height": 441
    },
    "id": "CxKYEInDF02B",
    "outputId": "fec9df8a-f8d5-4f29-efd4-0fbee48ea5ad"
   },
   "outputs": [
    {
     "name": "stderr",
     "output_type": "stream",
     "text": [
      "  0%|                                                               | 0/20598 [00:00<?, ?it/s]Loading cached processed dataset at ./data_cache/doc2dial/dialogue_domain/1.0.1/cf6d3ed4e77cea477387dd51c171a021a09bd314cf3a2cb2a6431ca738c6c0ee/cache-63f6f8de6047c1eb.arrow\n",
      "  0%|                                                               | 0/20598 [00:00<?, ?it/s]"
     ]
    },
    {
     "name": "stdout",
     "output_type": "stream",
     "text": [
      "DIAL:  dea7174409afbfe0af0ace21e7f318ae\n"
     ]
    },
    {
     "name": "stderr",
     "output_type": "stream",
     "text": [
      "\n"
     ]
    },
    {
     "ename": "TypeError",
     "evalue": "string indices must be integers",
     "output_type": "error",
     "traceback": [
      "\u001b[0;31m---------------------------------------------------------------------------\u001b[0m",
      "\u001b[0;31mTypeError\u001b[0m                                 Traceback (most recent call last)",
      "\u001b[0;32m/tmp/ipykernel_559935/4096624350.py\u001b[0m in \u001b[0;36m<module>\u001b[0;34m\u001b[0m\n\u001b[1;32m     10\u001b[0m     \u001b[0mnew_train_data\u001b[0m \u001b[0;34m=\u001b[0m \u001b[0mpd\u001b[0m\u001b[0;34m.\u001b[0m\u001b[0mDataFrame\u001b[0m\u001b[0;34m(\u001b[0m\u001b[0mcolumns\u001b[0m\u001b[0;34m=\u001b[0m\u001b[0;34m[\u001b[0m\u001b[0;34m'id'\u001b[0m\u001b[0;34m,\u001b[0m \u001b[0;34m'question'\u001b[0m\u001b[0;34m,\u001b[0m \u001b[0;34m'context'\u001b[0m\u001b[0;34m,\u001b[0m \u001b[0;34m'answers'\u001b[0m\u001b[0;34m,\u001b[0m \u001b[0;34m'spans'\u001b[0m\u001b[0;34m,\u001b[0m  \u001b[0;34m'domain'\u001b[0m\u001b[0;34m,\u001b[0m \u001b[0;34m'title'\u001b[0m\u001b[0;34m]\u001b[0m\u001b[0;34m)\u001b[0m\u001b[0;34m\u001b[0m\u001b[0;34m\u001b[0m\u001b[0m\n\u001b[1;32m     11\u001b[0m     \u001b[0;32mfor\u001b[0m \u001b[0mex\u001b[0m \u001b[0;32min\u001b[0m \u001b[0mtqdm\u001b[0m\u001b[0;34m(\u001b[0m\u001b[0mtrain_data\u001b[0m\u001b[0;34m)\u001b[0m\u001b[0;34m:\u001b[0m\u001b[0;34m\u001b[0m\u001b[0;34m\u001b[0m\u001b[0m\n\u001b[0;32m---> 12\u001b[0;31m       \u001b[0mnew_train_data\u001b[0m \u001b[0;34m=\u001b[0m \u001b[0mnew_train_data\u001b[0m\u001b[0;34m.\u001b[0m\u001b[0mappend\u001b[0m\u001b[0;34m(\u001b[0m\u001b[0madd_spans\u001b[0m\u001b[0;34m(\u001b[0m\u001b[0mex\u001b[0m\u001b[0;34m,\u001b[0m \u001b[0mtrain_dialogues\u001b[0m\u001b[0;34m)\u001b[0m\u001b[0;34m,\u001b[0m \u001b[0mignore_index\u001b[0m\u001b[0;34m=\u001b[0m\u001b[0;32mTrue\u001b[0m\u001b[0;34m)\u001b[0m\u001b[0;34m\u001b[0m\u001b[0;34m\u001b[0m\u001b[0m\n\u001b[0m\u001b[1;32m     13\u001b[0m     \u001b[0mnew_train_data\u001b[0m\u001b[0;34m.\u001b[0m\u001b[0mhead\u001b[0m\u001b[0;34m(\u001b[0m\u001b[0;34m)\u001b[0m\u001b[0;34m\u001b[0m\u001b[0;34m\u001b[0m\u001b[0m\n\u001b[1;32m     14\u001b[0m     \u001b[0mnew_train_data\u001b[0m\u001b[0;34m.\u001b[0m\u001b[0mto_csv\u001b[0m\u001b[0;34m(\u001b[0m\u001b[0mdata_file\u001b[0m\u001b[0;34m)\u001b[0m\u001b[0;34m\u001b[0m\u001b[0;34m\u001b[0m\u001b[0m\n",
      "\u001b[0;32m/tmp/ipykernel_559935/3084470766.py\u001b[0m in \u001b[0;36madd_spans\u001b[0;34m(sample, dialogues)\u001b[0m\n\u001b[1;32m      4\u001b[0m     \u001b[0mdials\u001b[0m \u001b[0;34m=\u001b[0m \u001b[0mdialogues\u001b[0m\u001b[0;34m.\u001b[0m\u001b[0mfilter\u001b[0m\u001b[0;34m(\u001b[0m\u001b[0;32mlambda\u001b[0m \u001b[0mex\u001b[0m\u001b[0;34m:\u001b[0m \u001b[0mex\u001b[0m\u001b[0;34m[\u001b[0m\u001b[0;34m'dial_id'\u001b[0m\u001b[0;34m]\u001b[0m \u001b[0;34m==\u001b[0m \u001b[0mdial_id\u001b[0m\u001b[0;34m)\u001b[0m\u001b[0;34m[\u001b[0m\u001b[0;36m0\u001b[0m\u001b[0;34m]\u001b[0m\u001b[0;34m\u001b[0m\u001b[0;34m\u001b[0m\u001b[0m\n\u001b[1;32m      5\u001b[0m     \u001b[0mprint\u001b[0m\u001b[0;34m(\u001b[0m\u001b[0;34m'DIAL: '\u001b[0m\u001b[0;34m,\u001b[0m\u001b[0mdial\u001b[0m\u001b[0;34m)\u001b[0m\u001b[0;34m\u001b[0m\u001b[0;34m\u001b[0m\u001b[0m\n\u001b[0;32m----> 6\u001b[0;31m     \u001b[0mdoc_id\u001b[0m \u001b[0;34m=\u001b[0m \u001b[0mdial\u001b[0m\u001b[0;34m[\u001b[0m\u001b[0;34m'doc_id'\u001b[0m\u001b[0;34m]\u001b[0m   \u001b[0;31m## corresponding document id\u001b[0m\u001b[0;34m\u001b[0m\u001b[0;34m\u001b[0m\u001b[0m\n\u001b[0m\u001b[1;32m      7\u001b[0m     \u001b[0mspan_ids\u001b[0m \u001b[0;34m=\u001b[0m \u001b[0;34m[\u001b[0m\u001b[0;34m]\u001b[0m             \u001b[0;31m## corresponding span ids\u001b[0m\u001b[0;34m\u001b[0m\u001b[0;34m\u001b[0m\u001b[0m\n\u001b[1;32m      8\u001b[0m \u001b[0;34m\u001b[0m\u001b[0m\n",
      "\u001b[0;31mTypeError\u001b[0m: string indices must be integers"
     ]
    }
   ],
   "source": [
    "# make train data\n",
    "# %%capture\n",
    "from tqdm import tqdm\n",
    "import os\n",
    "\n",
    "data_file = 'doc2dial_rc_train.csv'\n",
    "if os.path.exists(data_file):\n",
    "    new_train_data = pd.read_csv(data_file)\n",
    "else:\n",
    "    new_train_data = pd.DataFrame(columns=['id', 'question', 'context', 'answers', 'spans',  'domain', 'title'])\n",
    "    for ex in tqdm(train_data):\n",
    "      new_train_data = new_train_data.append(add_spans(ex, train_dialogues), ignore_index=True)\n",
    "    new_train_data.head()\n",
    "    new_train_data.to_csv(data_file)\n",
    "\n",
    "new_train_data.head()"
   ]
  },
  {
   "cell_type": "code",
   "execution_count": null,
   "metadata": {
    "colab": {
     "base_uri": "https://localhost:8080/",
     "height": 936
    },
    "id": "NwAueBABFums",
    "outputId": "b12ed2eb-eb86-4df2-e543-ad0da2e048d3"
   },
   "outputs": [],
   "source": [
    "new_train_data"
   ]
  },
  {
   "cell_type": "code",
   "execution_count": null,
   "metadata": {
    "colab": {
     "base_uri": "https://localhost:8080/",
     "height": 441
    },
    "id": "m8HsFNqiHx4f",
    "outputId": "3dd7363e-f6a1-4507-9d16-bf02672b61e2"
   },
   "outputs": [],
   "source": [
    "# make val data\n",
    "# %%capture\n",
    "data_file = 'doc2dial_rc_val.csv'\n",
    "if os.path.exists(data_file):\n",
    "    new_val_data = pd.read_csv(data_file)\n",
    "else:\n",
    "    new_val_data = pd.DataFrame(columns=['id', 'question', 'context', 'answers', 'spans',  'domain', 'title'])\n",
    "    for ex in tqdm(val_data):\n",
    "      new_val_data = new_val_data.append(add_spans(ex, val_dialogues), ignore_index=True)\n",
    "    new_val_data.to_csv(data_file)\n",
    "\n",
    "new_val_data.head()"
   ]
  },
  {
   "cell_type": "markdown",
   "metadata": {
    "id": "wUzOcKEHZ8oP"
   },
   "source": [
    "### Test how to use a doc2vec model "
   ]
  },
  {
   "cell_type": "code",
   "execution_count": null,
   "metadata": {
    "id": "cR41nbSCaCCr"
   },
   "outputs": [],
   "source": [
    "# import ast\n",
    "# new_val = new_val_data.apply(lambda row : ast.literal_eval(row), axis=1)\n",
    "\n",
    "# new_val.head()"
   ]
  },
  {
   "cell_type": "code",
   "execution_count": null,
   "metadata": {
    "colab": {
     "base_uri": "https://localhost:8080/"
    },
    "id": "nvCsMnnOCLqA",
    "outputId": "4325c6fa-a51a-4907-c8fe-6175db9593d4"
   },
   "outputs": [],
   "source": [
    "from gensim.models.doc2vec import Doc2Vec, TaggedDocument\n",
    "from nltk.tokenize import word_tokenize\n",
    "import nltk\n",
    "nltk.download('punkt')\n",
    "import ast\n",
    "\n",
    "index = 0\n",
    "instance = new_train_data.iloc[index]\n",
    "# print((instance['spans']))\n",
    "docs = ast.literal_eval(instance['spans'])\n",
    "print(docs)\n",
    "\n",
    "# Tokenization of each document\n",
    "tokenized_docs = {}\n",
    "for i, d in docs.items():\n",
    "    tokenized_docs[int(i)] = word_tokenize(d.lower())\n",
    "print(tokenized_docs)\n",
    "\n",
    "# Convert tokenized document into gensim formated tagged data\n",
    "tagged_data = []\n",
    "for i, d in tokenized_docs.items():\n",
    "  tagged_data.append(TaggedDocument(d, [i]))\n",
    "\n",
    "tagged_data"
   ]
  },
  {
   "cell_type": "code",
   "execution_count": null,
   "metadata": {
    "id": "p9hyTGVuQEUj"
   },
   "outputs": [],
   "source": [
    "## Train doc2vec model\n",
    "model = Doc2Vec(tagged_data, vector_size=20, window=2, min_count=1, workers=4, epochs = 100)\n",
    "\n",
    "## Print model vocabulary\n",
    "# model.wv.vocab"
   ]
  },
  {
   "cell_type": "code",
   "execution_count": null,
   "metadata": {
    "colab": {
     "base_uri": "https://localhost:8080/"
    },
    "id": "PsMvZ5VcCtPH",
    "outputId": "46607a74-58e9-4a5b-cd1d-42cbf473e2a5"
   },
   "outputs": [],
   "source": [
    "# find most similar doc \n",
    "# test_doc = ast.literal_eval(instance['answers'])['text'][0]\n",
    "test_doc = instance['question'][5:]\n",
    "print(test_doc)\n",
    "print()\n",
    "print(ast.literal_eval(instance['answers'])['spans'].keys())\n",
    "predictions  = model.docvecs.most_similar(positive=[model.infer_vector(test_doc)], topn=30)\n",
    "predictions"
   ]
  },
  {
   "cell_type": "code",
   "execution_count": null,
   "metadata": {
    "colab": {
     "base_uri": "https://localhost:8080/"
    },
    "id": "b-ArWTrlLsu_",
    "outputId": "455832b2-79a7-44b5-b680-cef7d1c87054"
   },
   "outputs": [],
   "source": [
    "## Generate predictions in the right format\n",
    "\n",
    "text = ''\n",
    "count = 0\n",
    "sum_score = 0\n",
    "pred = 0\n",
    "while True:\n",
    "\n",
    "  id, score = predictions[pred]\n",
    "  text += docs[str(id)]\n",
    "  count += 1\n",
    "  sum_score += score\n",
    "\n",
    "  pred += 1\n",
    "  next_id, next_score = predictions[pred]\n",
    "  if next_id != id+1:\n",
    "    break\n",
    "\n",
    "final_score = sum_score / count\n",
    "\n",
    "print('Question:', instance['question'][5:])\n",
    "print('--------------------------------\\n')\n",
    "print('Correct answer:   ', ast.literal_eval(instance['answers'])['text'][0])\n",
    "print()\n",
    "print('Our answer:       ', text)"
   ]
  },
  {
   "cell_type": "code",
   "execution_count": null,
   "metadata": {
    "colab": {
     "base_uri": "https://localhost:8080/"
    },
    "id": "wtPr4pB5XnPy",
    "outputId": "1ee5c5c8-89aa-4b0f-8eb1-27b29fd8c65d"
   },
   "outputs": [],
   "source": [
    "print('Anwswer in required format:\\n')\n",
    "final_prediction = {\"id\":instance[\"id\"], \"prediction_text\":text, \"no_answer_probability\":1.0-final_score}\n",
    "final_prediction"
   ]
  },
  {
   "cell_type": "markdown",
   "metadata": {
    "id": "_SlBxiKBZN5o"
   },
   "source": [
    "### Wrap everything and make predictions on the val set"
   ]
  },
  {
   "cell_type": "code",
   "execution_count": null,
   "metadata": {
    "id": "_tgjj__1ZNRx"
   },
   "outputs": [],
   "source": [
    "def train_predict_doc2vec(dataset, index):\n",
    "  instance = dataset.iloc[index]\n",
    "  docs = ast.literal_eval(instance['spans'])\n",
    "\n",
    "  tokenized_docs = {}\n",
    "  for i, d in docs.items():\n",
    "      tokenized_docs[int(i)] = word_tokenize(d.lower())\n",
    "      # if int(i)==0:\n",
    "      #   print(\"gotcha\")\n",
    "\n",
    "  tagged_data = []\n",
    "  for i, d in tokenized_docs.items():\n",
    "    tagged_data.append(TaggedDocument(d, [i]))\n",
    "    # if i==0:\n",
    "    #   print(\"gotcha\")\n",
    "\n",
    "  model = Doc2Vec(tagged_data, vector_size=20, window=2, min_count=1, workers=4, epochs = 100)\n",
    "\n",
    "  test_doc = instance['question'][5:]\n",
    "  predictions = model.docvecs.most_similar(positive=[model.infer_vector(test_doc)], topn=30)\n",
    "  # print(predictions)\n",
    "\n",
    "  text = ''\n",
    "  count = 0\n",
    "  sum_score = 0\n",
    "  pred = 0\n",
    "  while True:\n",
    "\n",
    "    id, score = predictions[pred]\n",
    "    text += docs.get(str(id), '')\n",
    "    count += 1\n",
    "    sum_score += score\n",
    "\n",
    "    pred += 1\n",
    "    next_id, next_score = predictions[pred]\n",
    "    if next_id != id+1:\n",
    "      break\n",
    "\n",
    "  final_score = sum_score / count\n",
    "  return {\"id\":instance[\"id\"], \"prediction_text\":text, \"no_answer_probability\":1.0-final_score}"
   ]
  },
  {
   "cell_type": "code",
   "execution_count": null,
   "metadata": {
    "colab": {
     "base_uri": "https://localhost:8080/"
    },
    "id": "v-s_KA2yatJV",
    "outputId": "82ead186-efbd-4153-a26a-27e023c8eff3"
   },
   "outputs": [],
   "source": [
    "from tqdm import tqdm\n",
    "\n",
    "preds = []\n",
    "new_val_data_slice = new_val_data[:100]\n",
    "\n",
    "for i in tqdm(range(len(new_val_data_slice))):\n",
    "  preds.append(train_predict_doc2vec(new_val_data_slice, i))\n",
    "\n",
    "preds"
   ]
  },
  {
   "cell_type": "code",
   "execution_count": null,
   "metadata": {
    "id": "yAXoFjMhbEtz"
   },
   "outputs": [],
   "source": [
    "import json\n",
    "\n",
    "file = 'predictions_subtask1_cosine.json'\n",
    "with open(file, 'w') as outfile:\n",
    "    json.dump(all_preds, outfile)"
   ]
  },
  {
   "cell_type": "code",
   "execution_count": null,
   "metadata": {},
   "outputs": [],
   "source": [
    "import os\n",
    "cmd = 'python sharedtask_utils.py --task subtask1 --prediction_json '+file\n",
    "os.system(cmd)"
   ]
  }
 ],
 "metadata": {
  "accelerator": "TPU",
  "colab": {
   "collapsed_sections": [
    "_hV32eqs6YsC"
   ],
   "name": "Doc2Dial - Task 1.ipynb",
   "provenance": []
  },
  "kernelspec": {
   "display_name": "Python 3 (ipykernel)",
   "language": "python",
   "name": "python3"
  },
  "language_info": {
   "codemirror_mode": {
    "name": "ipython",
    "version": 3
   },
   "file_extension": ".py",
   "mimetype": "text/x-python",
   "name": "python",
   "nbconvert_exporter": "python",
   "pygments_lexer": "ipython3",
   "version": "3.7.11"
  },
  "widgets": {
   "application/vnd.jupyter.widget-state+json": {
    "0657f92450c04f989ac4d019fd9898df": {
     "model_module": "@jupyter-widgets/controls",
     "model_module_version": "1.5.0",
     "model_name": "HTMLModel",
     "state": {
      "_dom_classes": [],
      "_model_module": "@jupyter-widgets/controls",
      "_model_module_version": "1.5.0",
      "_model_name": "HTMLModel",
      "_view_count": null,
      "_view_module": "@jupyter-widgets/controls",
      "_view_module_version": "1.5.0",
      "_view_name": "HTMLView",
      "description": "",
      "description_tooltip": null,
      "layout": "IPY_MODEL_a96484a8686e4503bf3ea6320a6b9794",
      "placeholder": "​",
      "style": "IPY_MODEL_b8d8931b903a4bda8a9ebf2c36289e5c",
      "value": " 7.31k/? [00:00&lt;00:00, 151kB/s]"
     }
    },
    "114e0eef3956486aa205c947b760f182": {
     "model_module": "@jupyter-widgets/controls",
     "model_module_version": "1.5.0",
     "model_name": "DescriptionStyleModel",
     "state": {
      "_model_module": "@jupyter-widgets/controls",
      "_model_module_version": "1.5.0",
      "_model_name": "DescriptionStyleModel",
      "_view_count": null,
      "_view_module": "@jupyter-widgets/base",
      "_view_module_version": "1.2.0",
      "_view_name": "StyleView",
      "description_width": ""
     }
    },
    "2056daee1b3d425e9f1fa0e674940e7d": {
     "model_module": "@jupyter-widgets/controls",
     "model_module_version": "1.5.0",
     "model_name": "DescriptionStyleModel",
     "state": {
      "_model_module": "@jupyter-widgets/controls",
      "_model_module_version": "1.5.0",
      "_model_name": "DescriptionStyleModel",
      "_view_count": null,
      "_view_module": "@jupyter-widgets/base",
      "_view_module_version": "1.2.0",
      "_view_name": "StyleView",
      "description_width": ""
     }
    },
    "22815c08e9ee47c1ba0478fe263c56e4": {
     "model_module": "@jupyter-widgets/controls",
     "model_module_version": "1.5.0",
     "model_name": "ProgressStyleModel",
     "state": {
      "_model_module": "@jupyter-widgets/controls",
      "_model_module_version": "1.5.0",
      "_model_name": "ProgressStyleModel",
      "_view_count": null,
      "_view_module": "@jupyter-widgets/base",
      "_view_module_version": "1.2.0",
      "_view_name": "StyleView",
      "bar_color": null,
      "description_width": ""
     }
    },
    "5284aed77a7b446591e7292dfdb54032": {
     "model_module": "@jupyter-widgets/base",
     "model_module_version": "1.2.0",
     "model_name": "LayoutModel",
     "state": {
      "_model_module": "@jupyter-widgets/base",
      "_model_module_version": "1.2.0",
      "_model_name": "LayoutModel",
      "_view_count": null,
      "_view_module": "@jupyter-widgets/base",
      "_view_module_version": "1.2.0",
      "_view_name": "LayoutView",
      "align_content": null,
      "align_items": null,
      "align_self": null,
      "border": null,
      "bottom": null,
      "display": null,
      "flex": null,
      "flex_flow": null,
      "grid_area": null,
      "grid_auto_columns": null,
      "grid_auto_flow": null,
      "grid_auto_rows": null,
      "grid_column": null,
      "grid_gap": null,
      "grid_row": null,
      "grid_template_areas": null,
      "grid_template_columns": null,
      "grid_template_rows": null,
      "height": null,
      "justify_content": null,
      "justify_items": null,
      "left": null,
      "margin": null,
      "max_height": null,
      "max_width": null,
      "min_height": null,
      "min_width": null,
      "object_fit": null,
      "object_position": null,
      "order": null,
      "overflow": null,
      "overflow_x": null,
      "overflow_y": null,
      "padding": null,
      "right": null,
      "top": null,
      "visibility": null,
      "width": null
     }
    },
    "58ff083d251e496d9a8b22a292ae3b90": {
     "model_module": "@jupyter-widgets/base",
     "model_module_version": "1.2.0",
     "model_name": "LayoutModel",
     "state": {
      "_model_module": "@jupyter-widgets/base",
      "_model_module_version": "1.2.0",
      "_model_name": "LayoutModel",
      "_view_count": null,
      "_view_module": "@jupyter-widgets/base",
      "_view_module_version": "1.2.0",
      "_view_name": "LayoutView",
      "align_content": null,
      "align_items": null,
      "align_self": null,
      "border": null,
      "bottom": null,
      "display": null,
      "flex": null,
      "flex_flow": null,
      "grid_area": null,
      "grid_auto_columns": null,
      "grid_auto_flow": null,
      "grid_auto_rows": null,
      "grid_column": null,
      "grid_gap": null,
      "grid_row": null,
      "grid_template_areas": null,
      "grid_template_columns": null,
      "grid_template_rows": null,
      "height": null,
      "justify_content": null,
      "justify_items": null,
      "left": null,
      "margin": null,
      "max_height": null,
      "max_width": null,
      "min_height": null,
      "min_width": null,
      "object_fit": null,
      "object_position": null,
      "order": null,
      "overflow": null,
      "overflow_x": null,
      "overflow_y": null,
      "padding": null,
      "right": null,
      "top": null,
      "visibility": null,
      "width": null
     }
    },
    "6831ed85a2d74417939dd24dce4f6d72": {
     "model_module": "@jupyter-widgets/controls",
     "model_module_version": "1.5.0",
     "model_name": "FloatProgressModel",
     "state": {
      "_dom_classes": [],
      "_model_module": "@jupyter-widgets/controls",
      "_model_module_version": "1.5.0",
      "_model_name": "FloatProgressModel",
      "_view_count": null,
      "_view_module": "@jupyter-widgets/controls",
      "_view_module_version": "1.5.0",
      "_view_name": "ProgressView",
      "bar_style": "success",
      "description": "",
      "description_tooltip": null,
      "layout": "IPY_MODEL_d1e2b4035df4487899827509bdd0f983",
      "max": 3031,
      "min": 0,
      "orientation": "horizontal",
      "style": "IPY_MODEL_99d8a61c50b2438bb35b9cbad53bf748",
      "value": 3031
     }
    },
    "703fce38200f4a5e9770e2fd74d369cb": {
     "model_module": "@jupyter-widgets/controls",
     "model_module_version": "1.5.0",
     "model_name": "HTMLModel",
     "state": {
      "_dom_classes": [],
      "_model_module": "@jupyter-widgets/controls",
      "_model_module_version": "1.5.0",
      "_model_name": "HTMLModel",
      "_view_count": null,
      "_view_module": "@jupyter-widgets/controls",
      "_view_module_version": "1.5.0",
      "_view_name": "HTMLView",
      "description": "",
      "description_tooltip": null,
      "layout": "IPY_MODEL_58ff083d251e496d9a8b22a292ae3b90",
      "placeholder": "​",
      "style": "IPY_MODEL_a740a3ab36384beb90403a5e80dcf3e9",
      "value": "Downloading: "
     }
    },
    "8f029bad159341e9ae87b39141baab67": {
     "model_module": "@jupyter-widgets/base",
     "model_module_version": "1.2.0",
     "model_name": "LayoutModel",
     "state": {
      "_model_module": "@jupyter-widgets/base",
      "_model_module_version": "1.2.0",
      "_model_name": "LayoutModel",
      "_view_count": null,
      "_view_module": "@jupyter-widgets/base",
      "_view_module_version": "1.2.0",
      "_view_name": "LayoutView",
      "align_content": null,
      "align_items": null,
      "align_self": null,
      "border": null,
      "bottom": null,
      "display": null,
      "flex": null,
      "flex_flow": null,
      "grid_area": null,
      "grid_auto_columns": null,
      "grid_auto_flow": null,
      "grid_auto_rows": null,
      "grid_column": null,
      "grid_gap": null,
      "grid_row": null,
      "grid_template_areas": null,
      "grid_template_columns": null,
      "grid_template_rows": null,
      "height": null,
      "justify_content": null,
      "justify_items": null,
      "left": null,
      "margin": null,
      "max_height": null,
      "max_width": null,
      "min_height": null,
      "min_width": null,
      "object_fit": null,
      "object_position": null,
      "order": null,
      "overflow": null,
      "overflow_x": null,
      "overflow_y": null,
      "padding": null,
      "right": null,
      "top": null,
      "visibility": null,
      "width": null
     }
    },
    "943a55ffffd9470b8a22f4ba5f17fbdd": {
     "model_module": "@jupyter-widgets/base",
     "model_module_version": "1.2.0",
     "model_name": "LayoutModel",
     "state": {
      "_model_module": "@jupyter-widgets/base",
      "_model_module_version": "1.2.0",
      "_model_name": "LayoutModel",
      "_view_count": null,
      "_view_module": "@jupyter-widgets/base",
      "_view_module_version": "1.2.0",
      "_view_name": "LayoutView",
      "align_content": null,
      "align_items": null,
      "align_self": null,
      "border": null,
      "bottom": null,
      "display": null,
      "flex": null,
      "flex_flow": null,
      "grid_area": null,
      "grid_auto_columns": null,
      "grid_auto_flow": null,
      "grid_auto_rows": null,
      "grid_column": null,
      "grid_gap": null,
      "grid_row": null,
      "grid_template_areas": null,
      "grid_template_columns": null,
      "grid_template_rows": null,
      "height": null,
      "justify_content": null,
      "justify_items": null,
      "left": null,
      "margin": null,
      "max_height": null,
      "max_width": null,
      "min_height": null,
      "min_width": null,
      "object_fit": null,
      "object_position": null,
      "order": null,
      "overflow": null,
      "overflow_x": null,
      "overflow_y": null,
      "padding": null,
      "right": null,
      "top": null,
      "visibility": null,
      "width": null
     }
    },
    "99d8a61c50b2438bb35b9cbad53bf748": {
     "model_module": "@jupyter-widgets/controls",
     "model_module_version": "1.5.0",
     "model_name": "ProgressStyleModel",
     "state": {
      "_model_module": "@jupyter-widgets/controls",
      "_model_module_version": "1.5.0",
      "_model_name": "ProgressStyleModel",
      "_view_count": null,
      "_view_module": "@jupyter-widgets/base",
      "_view_module_version": "1.2.0",
      "_view_name": "StyleView",
      "bar_color": null,
      "description_width": ""
     }
    },
    "9c292aed676a4adeb880918620c3bd84": {
     "model_module": "@jupyter-widgets/base",
     "model_module_version": "1.2.0",
     "model_name": "LayoutModel",
     "state": {
      "_model_module": "@jupyter-widgets/base",
      "_model_module_version": "1.2.0",
      "_model_name": "LayoutModel",
      "_view_count": null,
      "_view_module": "@jupyter-widgets/base",
      "_view_module_version": "1.2.0",
      "_view_name": "LayoutView",
      "align_content": null,
      "align_items": null,
      "align_self": null,
      "border": null,
      "bottom": null,
      "display": null,
      "flex": null,
      "flex_flow": null,
      "grid_area": null,
      "grid_auto_columns": null,
      "grid_auto_flow": null,
      "grid_auto_rows": null,
      "grid_column": null,
      "grid_gap": null,
      "grid_row": null,
      "grid_template_areas": null,
      "grid_template_columns": null,
      "grid_template_rows": null,
      "height": null,
      "justify_content": null,
      "justify_items": null,
      "left": null,
      "margin": null,
      "max_height": null,
      "max_width": null,
      "min_height": null,
      "min_width": null,
      "object_fit": null,
      "object_position": null,
      "order": null,
      "overflow": null,
      "overflow_x": null,
      "overflow_y": null,
      "padding": null,
      "right": null,
      "top": null,
      "visibility": null,
      "width": null
     }
    },
    "a2bbb2e53d9f4a9bb60f1f7bd999cf1c": {
     "model_module": "@jupyter-widgets/controls",
     "model_module_version": "1.5.0",
     "model_name": "HBoxModel",
     "state": {
      "_dom_classes": [],
      "_model_module": "@jupyter-widgets/controls",
      "_model_module_version": "1.5.0",
      "_model_name": "HBoxModel",
      "_view_count": null,
      "_view_module": "@jupyter-widgets/controls",
      "_view_module_version": "1.5.0",
      "_view_name": "HBoxView",
      "box_style": "",
      "children": [
       "IPY_MODEL_703fce38200f4a5e9770e2fd74d369cb",
       "IPY_MODEL_c537bd4872404186a70423a920228637",
       "IPY_MODEL_0657f92450c04f989ac4d019fd9898df"
      ],
      "layout": "IPY_MODEL_e12177b5b8ee4428bdc094553a46be70"
     }
    },
    "a740a3ab36384beb90403a5e80dcf3e9": {
     "model_module": "@jupyter-widgets/controls",
     "model_module_version": "1.5.0",
     "model_name": "DescriptionStyleModel",
     "state": {
      "_model_module": "@jupyter-widgets/controls",
      "_model_module_version": "1.5.0",
      "_model_name": "DescriptionStyleModel",
      "_view_count": null,
      "_view_module": "@jupyter-widgets/base",
      "_view_module_version": "1.2.0",
      "_view_name": "StyleView",
      "description_width": ""
     }
    },
    "a96484a8686e4503bf3ea6320a6b9794": {
     "model_module": "@jupyter-widgets/base",
     "model_module_version": "1.2.0",
     "model_name": "LayoutModel",
     "state": {
      "_model_module": "@jupyter-widgets/base",
      "_model_module_version": "1.2.0",
      "_model_name": "LayoutModel",
      "_view_count": null,
      "_view_module": "@jupyter-widgets/base",
      "_view_module_version": "1.2.0",
      "_view_name": "LayoutView",
      "align_content": null,
      "align_items": null,
      "align_self": null,
      "border": null,
      "bottom": null,
      "display": null,
      "flex": null,
      "flex_flow": null,
      "grid_area": null,
      "grid_auto_columns": null,
      "grid_auto_flow": null,
      "grid_auto_rows": null,
      "grid_column": null,
      "grid_gap": null,
      "grid_row": null,
      "grid_template_areas": null,
      "grid_template_columns": null,
      "grid_template_rows": null,
      "height": null,
      "justify_content": null,
      "justify_items": null,
      "left": null,
      "margin": null,
      "max_height": null,
      "max_width": null,
      "min_height": null,
      "min_width": null,
      "object_fit": null,
      "object_position": null,
      "order": null,
      "overflow": null,
      "overflow_x": null,
      "overflow_y": null,
      "padding": null,
      "right": null,
      "top": null,
      "visibility": null,
      "width": null
     }
    },
    "b8d8931b903a4bda8a9ebf2c36289e5c": {
     "model_module": "@jupyter-widgets/controls",
     "model_module_version": "1.5.0",
     "model_name": "DescriptionStyleModel",
     "state": {
      "_model_module": "@jupyter-widgets/controls",
      "_model_module_version": "1.5.0",
      "_model_name": "DescriptionStyleModel",
      "_view_count": null,
      "_view_module": "@jupyter-widgets/base",
      "_view_module_version": "1.2.0",
      "_view_name": "StyleView",
      "description_width": ""
     }
    },
    "c537bd4872404186a70423a920228637": {
     "model_module": "@jupyter-widgets/controls",
     "model_module_version": "1.5.0",
     "model_name": "FloatProgressModel",
     "state": {
      "_dom_classes": [],
      "_model_module": "@jupyter-widgets/controls",
      "_model_module_version": "1.5.0",
      "_model_name": "FloatProgressModel",
      "_view_count": null,
      "_view_module": "@jupyter-widgets/controls",
      "_view_module_version": "1.5.0",
      "_view_name": "ProgressView",
      "bar_style": "success",
      "description": "",
      "description_tooltip": null,
      "layout": "IPY_MODEL_9c292aed676a4adeb880918620c3bd84",
      "max": 1287,
      "min": 0,
      "orientation": "horizontal",
      "style": "IPY_MODEL_22815c08e9ee47c1ba0478fe263c56e4",
      "value": 1287
     }
    },
    "d1e2b4035df4487899827509bdd0f983": {
     "model_module": "@jupyter-widgets/base",
     "model_module_version": "1.2.0",
     "model_name": "LayoutModel",
     "state": {
      "_model_module": "@jupyter-widgets/base",
      "_model_module_version": "1.2.0",
      "_model_name": "LayoutModel",
      "_view_count": null,
      "_view_module": "@jupyter-widgets/base",
      "_view_module_version": "1.2.0",
      "_view_name": "LayoutView",
      "align_content": null,
      "align_items": null,
      "align_self": null,
      "border": null,
      "bottom": null,
      "display": null,
      "flex": null,
      "flex_flow": null,
      "grid_area": null,
      "grid_auto_columns": null,
      "grid_auto_flow": null,
      "grid_auto_rows": null,
      "grid_column": null,
      "grid_gap": null,
      "grid_row": null,
      "grid_template_areas": null,
      "grid_template_columns": null,
      "grid_template_rows": null,
      "height": null,
      "justify_content": null,
      "justify_items": null,
      "left": null,
      "margin": null,
      "max_height": null,
      "max_width": null,
      "min_height": null,
      "min_width": null,
      "object_fit": null,
      "object_position": null,
      "order": null,
      "overflow": null,
      "overflow_x": null,
      "overflow_y": null,
      "padding": null,
      "right": null,
      "top": null,
      "visibility": null,
      "width": null
     }
    },
    "e12177b5b8ee4428bdc094553a46be70": {
     "model_module": "@jupyter-widgets/base",
     "model_module_version": "1.2.0",
     "model_name": "LayoutModel",
     "state": {
      "_model_module": "@jupyter-widgets/base",
      "_model_module_version": "1.2.0",
      "_model_name": "LayoutModel",
      "_view_count": null,
      "_view_module": "@jupyter-widgets/base",
      "_view_module_version": "1.2.0",
      "_view_name": "LayoutView",
      "align_content": null,
      "align_items": null,
      "align_self": null,
      "border": null,
      "bottom": null,
      "display": null,
      "flex": null,
      "flex_flow": null,
      "grid_area": null,
      "grid_auto_columns": null,
      "grid_auto_flow": null,
      "grid_auto_rows": null,
      "grid_column": null,
      "grid_gap": null,
      "grid_row": null,
      "grid_template_areas": null,
      "grid_template_columns": null,
      "grid_template_rows": null,
      "height": null,
      "justify_content": null,
      "justify_items": null,
      "left": null,
      "margin": null,
      "max_height": null,
      "max_width": null,
      "min_height": null,
      "min_width": null,
      "object_fit": null,
      "object_position": null,
      "order": null,
      "overflow": null,
      "overflow_x": null,
      "overflow_y": null,
      "padding": null,
      "right": null,
      "top": null,
      "visibility": null,
      "width": null
     }
    },
    "e752aa7f11f248a3af43c98cce17a000": {
     "model_module": "@jupyter-widgets/controls",
     "model_module_version": "1.5.0",
     "model_name": "HTMLModel",
     "state": {
      "_dom_classes": [],
      "_model_module": "@jupyter-widgets/controls",
      "_model_module_version": "1.5.0",
      "_model_name": "HTMLModel",
      "_view_count": null,
      "_view_module": "@jupyter-widgets/controls",
      "_view_module_version": "1.5.0",
      "_view_name": "HTMLView",
      "description": "",
      "description_tooltip": null,
      "layout": "IPY_MODEL_8f029bad159341e9ae87b39141baab67",
      "placeholder": "​",
      "style": "IPY_MODEL_2056daee1b3d425e9f1fa0e674940e7d",
      "value": "Downloading: "
     }
    },
    "f429ba5f89f54ab4a8eeb65ff4a3b4aa": {
     "model_module": "@jupyter-widgets/controls",
     "model_module_version": "1.5.0",
     "model_name": "HBoxModel",
     "state": {
      "_dom_classes": [],
      "_model_module": "@jupyter-widgets/controls",
      "_model_module_version": "1.5.0",
      "_model_name": "HBoxModel",
      "_view_count": null,
      "_view_module": "@jupyter-widgets/controls",
      "_view_module_version": "1.5.0",
      "_view_name": "HBoxView",
      "box_style": "",
      "children": [
       "IPY_MODEL_e752aa7f11f248a3af43c98cce17a000",
       "IPY_MODEL_6831ed85a2d74417939dd24dce4f6d72",
       "IPY_MODEL_ffb1eab3754c40a586e0d8c8e0d778fb"
      ],
      "layout": "IPY_MODEL_943a55ffffd9470b8a22f4ba5f17fbdd"
     }
    },
    "ffb1eab3754c40a586e0d8c8e0d778fb": {
     "model_module": "@jupyter-widgets/controls",
     "model_module_version": "1.5.0",
     "model_name": "HTMLModel",
     "state": {
      "_dom_classes": [],
      "_model_module": "@jupyter-widgets/controls",
      "_model_module_version": "1.5.0",
      "_model_name": "HTMLModel",
      "_view_count": null,
      "_view_module": "@jupyter-widgets/controls",
      "_view_module_version": "1.5.0",
      "_view_name": "HTMLView",
      "description": "",
      "description_tooltip": null,
      "layout": "IPY_MODEL_5284aed77a7b446591e7292dfdb54032",
      "placeholder": "​",
      "style": "IPY_MODEL_114e0eef3956486aa205c947b760f182",
      "value": " 14.1k/? [00:00&lt;00:00, 243kB/s]"
     }
    }
   }
  }
 },
 "nbformat": 4,
 "nbformat_minor": 1
}
